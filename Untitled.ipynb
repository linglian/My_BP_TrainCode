{
 "cells": [
  {
   "cell_type": "code",
   "execution_count": 1,
   "metadata": {},
   "outputs": [],
   "source": [
    "import numpy as np\n",
    "import sys\n",
    "import os\n",
    "import cv2\n",
    "\n",
    "base_path = '/home/lol/训练数据/深度学习-布料库-加强版-整理/'\n",
    "\n",
    "base_featrue_list = np.load(os.path.join(base_path, 'tensorflow-feature.npy'))\n",
    "base_class_name_list = np.load(os.path.join(base_path, 'tensorflow-class_name.npy'))\n",
    "base_file_path_list = np.load(os.path.join(base_path, 'tensorflow-file_path.npy'))\n",
    "\n",
    "test_path = '/home/lol/训练数据/布料数据特征/'\n",
    "\n",
    "test_featrue_list = np.load(os.path.join(test_path, 'tensorflow-feature.npy'))\n",
    "test_class_name_list = np.load(os.path.join(test_path, 'tensorflow-class_name.npy'))\n",
    "test_file_path_list = np.load(os.path.join(test_path, 'tensorflow-file_path.npy'))"
   ]
  },
  {
   "cell_type": "code",
   "execution_count": 2,
   "metadata": {},
   "outputs": [],
   "source": [
    "def getDistOfL2(form, to):\n",
    "    return cv2.norm(form, to, normType=cv2.NORM_L2)\n",
    "\n",
    "def getDistOfSquare(form, to):\n",
    "    return np.sqrt(np.sum(np.square(form - to)))\n",
    "\n",
    "def getDistOfHash(f, t):\n",
    "    return f[0].__sub__(t[0])\n",
    "\n",
    "def getDistOfCos(f, t):\n",
    "    up = np.sum(np.multiply(f, t))\n",
    "    ff = np.sqrt(np.sum(np.multiply(f, f)))\n",
    "    tt = np.sqrt(np.sum(np.multiply(t, t)))\n",
    "    down = ff * tt\n",
    "    return up / down"
   ]
  },
  {
   "cell_type": "code",
   "execution_count": 28,
   "metadata": {},
   "outputs": [],
   "source": [
    "def getRank(test_featrue):\n",
    "    rank_list = []\n",
    "\n",
    "    for i in base_featrue_list:\n",
    "        rank_list.append(getDistOfCos(test_featrue, i))\n",
    "\n",
    "    t_list =  np.argsort(-np.array(rank_list))\n",
    "\n",
    "    return t_list"
   ]
  },
  {
   "cell_type": "code",
   "execution_count": 29,
   "metadata": {},
   "outputs": [
    {
     "name": "stdout",
     "output_type": "stream",
     "text": [
      "CPU times: user 6.83 s, sys: 7.82 ms, total: 6.84 s\n",
      "Wall time: 6.85 s\n"
     ]
    }
   ],
   "source": [
    "%%time\n",
    "t_list = getRank(test_featrue_list[0])"
   ]
  },
  {
   "cell_type": "code",
   "execution_count": 34,
   "metadata": {},
   "outputs": [
    {
     "name": "stdout",
     "output_type": "stream",
     "text": [
      "10341\n",
      "/media/lol/训练数据/深度学习-布料库-加强版-整理/8333/18.jpg\n",
      "['10341' '10341' '14415' ... '14084' '16271' '14084']\n",
      "0.8800258\n"
     ]
    }
   ],
   "source": [
    "print test_class_name_list[0]\n",
    "print base_file_path_list[0]\n",
    "print base_class_name_list[t_list]\n",
    "print getDistOfCos(test_featrue_list[0], base_featrue_list[t_list[0]])"
   ]
  }
 ],
 "metadata": {
  "kernelspec": {
   "display_name": "Python 2",
   "language": "python",
   "name": "python2"
  },
  "language_info": {
   "codemirror_mode": {
    "name": "ipython",
    "version": 2
   },
   "file_extension": ".py",
   "mimetype": "text/x-python",
   "name": "python",
   "nbconvert_exporter": "python",
   "pygments_lexer": "ipython2",
   "version": "2.7.12"
  }
 },
 "nbformat": 4,
 "nbformat_minor": 2
}
